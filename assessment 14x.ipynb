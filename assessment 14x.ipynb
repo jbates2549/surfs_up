{
 "cells": [
  {
   "cell_type": "code",
   "execution_count": 1,
   "metadata": {},
   "outputs": [
    {
     "ename": "ModuleNotFoundError",
     "evalue": "No module named 'sqlalchemy.ext'",
     "output_type": "error",
     "traceback": [
      "\u001b[1;31m---------------------------------------------------------------------------\u001b[0m",
      "\u001b[1;31mModuleNotFoundError\u001b[0m                       Traceback (most recent call last)",
      "\u001b[1;32m<ipython-input-1-69b40ced17d8>\u001b[0m in \u001b[0;36m<module>\u001b[1;34m\u001b[0m\n\u001b[0;32m      4\u001b[0m \u001b[1;31m# Python SQL toolkit and Object Relational Mapper\u001b[0m\u001b[1;33m\u001b[0m\u001b[1;33m\u001b[0m\u001b[1;33m\u001b[0m\u001b[0m\n\u001b[0;32m      5\u001b[0m \u001b[1;32mimport\u001b[0m \u001b[0msqlalchemy\u001b[0m\u001b[1;33m\u001b[0m\u001b[1;33m\u001b[0m\u001b[0m\n\u001b[1;32m----> 6\u001b[1;33m \u001b[1;32mfrom\u001b[0m \u001b[0msqlalchemy\u001b[0m\u001b[1;33m.\u001b[0m\u001b[0mext\u001b[0m\u001b[1;33m.\u001b[0m\u001b[0mautomap\u001b[0m \u001b[1;32mimport\u001b[0m \u001b[0mautomap_base\u001b[0m\u001b[1;33m\u001b[0m\u001b[1;33m\u001b[0m\u001b[0m\n\u001b[0m\u001b[0;32m      7\u001b[0m \u001b[1;31m#from sqlalchemy.orm import Session\u001b[0m\u001b[1;33m\u001b[0m\u001b[1;33m\u001b[0m\u001b[1;33m\u001b[0m\u001b[0m\n\u001b[0;32m      8\u001b[0m \u001b[1;31m#from sqlalchemy import create_engine, func\u001b[0m\u001b[1;33m\u001b[0m\u001b[1;33m\u001b[0m\u001b[1;33m\u001b[0m\u001b[0m\n",
      "\u001b[1;31mModuleNotFoundError\u001b[0m: No module named 'sqlalchemy.ext'"
     ]
    }
   ],
   "source": [
    "# Dependencies\n",
    "import numpy as np\n",
    "import pandas as pd\n",
    "# Python SQL toolkit and Object Relational Mapper\n",
    "import sqlalchemy\n",
    "from sqlalchemy.ext.automap import automap_base\n",
    "#from sqlalchemy.orm import Session\n",
    "#from sqlalchemy import create_engine, func\n",
    "import datetime as dt\n",
    "import calendar"
   ]
  },
  {
   "cell_type": "code",
   "execution_count": 14,
   "metadata": {},
   "outputs": [],
   "source": [
    "import pandas as pd\n",
    "import sqlite3\n",
    "\n",
    "\n",
    "\n",
    "\n",
    "#engine = create_engine(\"sqlite:///Census_Data2.sqlite\")\n",
    "\n",
    "# reflect an existing database into a new model\n",
    "#Base = automap_base()\n",
    "# reflect the tables\n",
    "#Base.prepare(engine, reflect=True)\n",
    "\n",
    "# Save references to each table\n",
    "#Measurement = Base.classes.measurement\n",
    "#Station = Base.classes.station"
   ]
  },
  {
   "cell_type": "code",
   "execution_count": 15,
   "metadata": {},
   "outputs": [],
   "source": [
    "# Create our session (link) from Python to the DB\n",
    "#session = Session(engine)"
   ]
  },
  {
   "cell_type": "code",
   "execution_count": 16,
   "metadata": {},
   "outputs": [],
   "source": [
    "con = sqlite3.connect('Census_Dataa.sqlite')\n",
    "cursor = con.cursor()"
   ]
  },
  {
   "cell_type": "code",
   "execution_count": 17,
   "metadata": {},
   "outputs": [
    {
     "name": "stdout",
     "output_type": "stream",
     "text": [
      "[('Census_Data',)]\n"
     ]
    }
   ],
   "source": [
    "\n",
    "cursor.execute(\"SELECT name FROM sqlite_master WHERE type='table';\")\n",
    "print(cursor.fetchall())"
   ]
  },
  {
   "cell_type": "code",
   "execution_count": 18,
   "metadata": {},
   "outputs": [],
   "source": [
    "def table_columns(db, table_name):\n",
    "    curs = db.cursor()\n",
    "    sql = \"select * from %s where 1=0;\" % table_name\n",
    "    curs.execute(sql)\n",
    "    return [d[0] for d in curs.description]"
   ]
  },
  {
   "cell_type": "code",
   "execution_count": 19,
   "metadata": {
    "scrolled": false
   },
   "outputs": [
    {
     "data": {
      "text/plain": [
       "['CityState',\n",
       " 'city',\n",
       " 'state',\n",
       " 'Population',\n",
       " 'White Population',\n",
       " 'Black Population',\n",
       " 'Native American Population',\n",
       " 'Asian Population',\n",
       " 'Hispanic Population',\n",
       " 'Education None',\n",
       " 'Education High School',\n",
       " 'Education GED',\n",
       " 'Education Associates',\n",
       " 'Education Bachelors',\n",
       " 'Education Masters',\n",
       " 'Education Professional',\n",
       " 'Education Doctorate',\n",
       " 'Poverty',\n",
       " 'Employment Labor Force',\n",
       " 'Employment Unemployed',\n",
       " 'Employment Male Computer Engineering',\n",
       " 'Employment Female Computer Engineering',\n",
       " 'Median Age',\n",
       " 'Median Male Age',\n",
       " 'Median Female Age',\n",
       " 'Household Income',\n",
       " 'Income Per Capita',\n",
       " 'Median Gross Rent',\n",
       " 'Median Home Value',\n",
       " 'lat',\n",
       " 'lng']"
      ]
     },
     "execution_count": 19,
     "metadata": {},
     "output_type": "execute_result"
    }
   ],
   "source": [
    "table_columns(con, 'Census_Data')"
   ]
  },
  {
   "cell_type": "code",
   "execution_count": 20,
   "metadata": {},
   "outputs": [
    {
     "ename": "AttributeError",
     "evalue": "module 'pandas' has no attribute 'io'",
     "output_type": "error",
     "traceback": [
      "\u001b[1;31m---------------------------------------------------------------------------\u001b[0m",
      "\u001b[1;31mAttributeError\u001b[0m                            Traceback (most recent call last)",
      "\u001b[1;32m<ipython-input-20-d14cf1713856>\u001b[0m in \u001b[0;36m<module>\u001b[1;34m\u001b[0m\n\u001b[0;32m      1\u001b[0m \u001b[1;31m#df = pd.read_sql_query(\"SELECT * from Census_Data\", con)\u001b[0m\u001b[1;33m\u001b[0m\u001b[1;33m\u001b[0m\u001b[1;33m\u001b[0m\u001b[0m\n\u001b[0;32m      2\u001b[0m \u001b[1;33m\u001b[0m\u001b[0m\n\u001b[1;32m----> 3\u001b[1;33m \u001b[0mdf\u001b[0m \u001b[1;33m=\u001b[0m \u001b[0mpd\u001b[0m\u001b[1;33m.\u001b[0m\u001b[0mio\u001b[0m\u001b[1;33m.\u001b[0m\u001b[0msql\u001b[0m\u001b[1;33m.\u001b[0m\u001b[0mread_sql_query\u001b[0m\u001b[1;33m(\u001b[0m\u001b[1;34m\"SELECT * from Census_Data\"\u001b[0m\u001b[1;33m,\u001b[0m \u001b[0mcon\u001b[0m\u001b[1;33m)\u001b[0m\u001b[1;33m\u001b[0m\u001b[1;33m\u001b[0m\u001b[0m\n\u001b[0m\u001b[0;32m      4\u001b[0m \u001b[0mdf\u001b[0m \u001b[1;33m=\u001b[0m \u001b[0mdf\u001b[0m\u001b[1;33m.\u001b[0m\u001b[0mset_index\u001b[0m\u001b[1;33m(\u001b[0m\u001b[1;33m[\u001b[0m\u001b[1;34m'city'\u001b[0m\u001b[1;33m]\u001b[0m\u001b[1;33m)\u001b[0m\u001b[1;33m\u001b[0m\u001b[1;33m\u001b[0m\u001b[0m\n\u001b[0;32m      5\u001b[0m \u001b[0mprint\u001b[0m\u001b[1;33m(\u001b[0m\u001b[0mdf\u001b[0m\u001b[1;33m.\u001b[0m\u001b[0mhead\u001b[0m\u001b[1;33m(\u001b[0m\u001b[1;36m10\u001b[0m\u001b[1;33m)\u001b[0m\u001b[1;33m)\u001b[0m\u001b[1;33m\u001b[0m\u001b[1;33m\u001b[0m\u001b[0m\n",
      "\u001b[1;31mAttributeError\u001b[0m: module 'pandas' has no attribute 'io'"
     ]
    }
   ],
   "source": [
    "#df = pd.read_sql_query(\"SELECT * from Census_Data\", con)\n",
    "\n",
    "df = pd.io.sql.read_sql_query(\"SELECT * from Census_Data\", con)\n",
    "df = df.set_index(['city'])\n",
    "print(df.head(10))"
   ]
  },
  {
   "cell_type": "code",
   "execution_count": null,
   "metadata": {},
   "outputs": [],
   "source": []
  },
  {
   "cell_type": "code",
   "execution_count": 21,
   "metadata": {},
   "outputs": [
    {
     "ename": "ImportError",
     "evalue": "cannot import name 'extract' from 'sqlalchemy' (unknown location)",
     "output_type": "error",
     "traceback": [
      "\u001b[1;31m---------------------------------------------------------------------------\u001b[0m",
      "\u001b[1;31mImportError\u001b[0m                               Traceback (most recent call last)",
      "\u001b[1;32m<ipython-input-21-b4cc8cac53bf>\u001b[0m in \u001b[0;36m<module>\u001b[1;34m\u001b[0m\n\u001b[0;32m      1\u001b[0m \u001b[1;31m# 1. Import the sqlalchemy extract function.\u001b[0m\u001b[1;33m\u001b[0m\u001b[1;33m\u001b[0m\u001b[1;33m\u001b[0m\u001b[0m\n\u001b[1;32m----> 2\u001b[1;33m \u001b[1;32mfrom\u001b[0m \u001b[0msqlalchemy\u001b[0m \u001b[1;32mimport\u001b[0m \u001b[0mextract\u001b[0m\u001b[1;33m\u001b[0m\u001b[1;33m\u001b[0m\u001b[0m\n\u001b[0m\u001b[0;32m      3\u001b[0m \u001b[1;33m\u001b[0m\u001b[0m\n",
      "\u001b[1;31mImportError\u001b[0m: cannot import name 'extract' from 'sqlalchemy' (unknown location)"
     ]
    }
   ],
   "source": [
    "# 1. Import the sqlalchemy extract function.\n",
    "from sqlalchemy import extract\n",
    "\n"
   ]
  },
  {
   "cell_type": "code",
   "execution_count": null,
   "metadata": {},
   "outputs": [],
   "source": [
    "#  3. Convert the June temperatures to a list.\n",
    "results = session.query()\n"
   ]
  },
  {
   "cell_type": "code",
   "execution_count": null,
   "metadata": {},
   "outputs": [],
   "source": [
    "# 4. Create a DataFrame from the list of temperatures for the month of June. \n",
    "df_10 = pd.DataFrame(results_10, columns=['date','temperature'])\n",
    "df_11 = pd.DataFrame(results_11, columns=['date','temperature'])\n",
    "df_12 = pd.DataFrame(results_12, columns=['date','temperature'])\n",
    "df_13 = pd.DataFrame(results_13, columns=['date','temperature'])\n",
    "df_14 = pd.DataFrame(results_14, columns=['date','temperature'])\n",
    "df_15 = pd.DataFrame(results_15, columns=['date','temperature'])\n",
    "df_16 = pd.DataFrame(results_16, columns=['date','temperature'])\n",
    "df_17 = pd.DataFrame(results_17, columns=['date','temperature'])\n",
    "df_18 = pd.DataFrame(results_18, columns=['date','temperature'])\n",
    "\n",
    "df = df_14.append([df_10, df_11, df_12, df_13, df_15, df_16, df_17, df_18])\n",
    "df.set_index(df['date'], inplace=True)"
   ]
  },
  {
   "cell_type": "code",
   "execution_count": null,
   "metadata": {},
   "outputs": [],
   "source": [
    "# 5. Calculate and print out the summary statistics for the June temperature DataFrame.\n",
    "df = df.sort_index()\n",
    "print(df.to_string(index=False))"
   ]
  },
  {
   "cell_type": "code",
   "execution_count": null,
   "metadata": {},
   "outputs": [],
   "source": [
    "df.describe()"
   ]
  },
  {
   "cell_type": "markdown",
   "metadata": {},
   "source": [
    "## D2: Determine the Summary Statistics for December"
   ]
  },
  {
   "cell_type": "code",
   "execution_count": null,
   "metadata": {},
   "outputs": [],
   "source": []
  },
  {
   "cell_type": "code",
   "execution_count": null,
   "metadata": {},
   "outputs": [],
   "source": [
    "# 6. Write a query that filters the Measurement table to retrieve the temperatures for the month of December.\n",
    "# 1. Import the sqlalchemy extract function.\n",
    "from sqlalchemy import extract\n",
    "\n",
    "# 2. Write a query that filters the Measurement table to retrieve the temperatures for the month of dec. \n",
    "\n",
    "\n",
    "dec1_18 = dt.date(2018, 12, 1)\n",
    "dec31_18 = dt.date(2018, 12, 31)\n",
    "\n",
    "\n",
    "dec1_17 = dt.date(2017, 12, 1)\n",
    "dec31_17 = dt.date(2017, 12, 31)\n",
    "\n",
    "\n",
    "dec1_16 = dt.date(2016, 12, 1)\n",
    "dec31_16 = dt.date(2016, 12, 31)\n",
    "\n",
    "dec1_15 = dt.date(2015, 12, 1)\n",
    "dec31_15 = dt.date(2015, 12, 31)\n",
    "\n",
    "dec1_14 = dt.date(2014, 12, 1)\n",
    "dec31_14 = dt.date(2014, 12, 31)\n",
    "\n",
    "dec1_13 = dt.date(2013, 12, 1)\n",
    "dec31_13 = dt.date(2013, 12, 31)\n",
    "\n",
    "dec1_12 = dt.date(2012, 12, 1)\n",
    "dec31_12 = dt.date(2012, 12, 31)\n",
    "\n",
    "dec1_11 = dt.date(2011, 12, 1)\n",
    "dec31_11 = dt.date(2011, 12, 31)\n",
    "\n",
    "dec1_10 = dt.date(2010, 12, 1)\n",
    "dec31_10 = dt.date(2010, 12, 31)\n",
    "results = []"
   ]
  },
  {
   "cell_type": "code",
   "execution_count": null,
   "metadata": {},
   "outputs": [],
   "source": [
    "# 7. Convert the December temperatures to a list.\n",
    "results_d_ = session.query(Measurement.date, Measurement.tobs)\n",
    "\n",
    "results_d__10 = session.query(Measurement.date, Measurement.tobs).filter(Measurement.date >= dec1_10, Measurement.date <= dec31_10).all()\n",
    "results_d__11 = session.query(Measurement.date, Measurement.tobs).filter(Measurement.date >= dec1_11, Measurement.date <= dec31_11).all()\n",
    "\n",
    "results_d__12 = session.query(Measurement.date, Measurement.tobs).filter(Measurement.date >= dec1_12, Measurement.date <= dec31_12).all()\n",
    "results_d__13 = session.query(Measurement.date, Measurement.tobs).filter(Measurement.date >= dec1_13, Measurement.date <= dec31_13).all()\n",
    "\n",
    "results_d__14 = session.query(Measurement.date, Measurement.tobs).filter(Measurement.date >= dec1_14, Measurement.date <= dec31_14).all()\n",
    "results_d__15 = session.query(Measurement.date, Measurement.tobs).filter(Measurement.date >= dec1_15, Measurement.date <= dec31_15).all()\n",
    "\n",
    "results_d__16 = session.query(Measurement.date, Measurement.tobs).filter(Measurement.date >= dec1_16, Measurement.date <= dec31_16).all()\n",
    "results_d__17 = session.query(Measurement.date, Measurement.tobs).filter(Measurement.date >= dec1_17, Measurement.date <= dec31_17).all()\n",
    "results_d__18 = session.query(Measurement.date, Measurement.tobs).filter(Measurement.date >= dec1_18, Measurement.date <= dec31_18).all()"
   ]
  },
  {
   "cell_type": "code",
   "execution_count": null,
   "metadata": {},
   "outputs": [],
   "source": [
    "# 8. Create a DataFrame from the list of temperatures for the month of December. \n",
    "df_d_10 = pd.DataFrame(results_d__10, columns=['date','temperature'])\n",
    "df_d_11 = pd.DataFrame(results_d__11, columns=['date','temperature'])\n",
    "df_d_12 = pd.DataFrame(results_d__12, columns=['date','temperature'])\n",
    "df_d_13 = pd.DataFrame(results_d__13, columns=['date','temperature'])\n",
    "df_d_14 = pd.DataFrame(results_d__14, columns=['date','temperature'])\n",
    "df_d_15 = pd.DataFrame(results_d__15, columns=['date','temperature'])\n",
    "df_d_16 = pd.DataFrame(results_d__16, columns=['date','temperature'])\n",
    "df_d_17 = pd.DataFrame(results_d__17, columns=['date','temperature'])\n",
    "df_d_18 = pd.DataFrame(results_d__18, columns=['date','temperature'])\n",
    "\n",
    "df_d = df_d_14.append([df_d_10, df_d_11,df_d_12, df_d_13, df_d_15, df_d_16, df_d_17, df_d_18])\n",
    "df_d.set_index(df_d['date'], inplace=True)\n",
    "\n",
    "df_d = df_d.sort_index()\n",
    "print(df_d.to_string(index=False))"
   ]
  },
  {
   "cell_type": "code",
   "execution_count": null,
   "metadata": {},
   "outputs": [],
   "source": [
    "# 9. Calculate and print out the summary statistics for the Decemeber temperature DataFrame.\n",
    "df_d.describe()"
   ]
  },
  {
   "cell_type": "code",
   "execution_count": null,
   "metadata": {},
   "outputs": [],
   "source": []
  },
  {
   "cell_type": "code",
   "execution_count": null,
   "metadata": {},
   "outputs": [],
   "source": []
  }
 ],
 "metadata": {
  "kernelspec": {
   "display_name": "Python 3",
   "language": "python",
   "name": "python3"
  },
  "language_info": {
   "codemirror_mode": {
    "name": "ipython",
    "version": 3
   },
   "file_extension": ".py",
   "mimetype": "text/x-python",
   "name": "python",
   "nbconvert_exporter": "python",
   "pygments_lexer": "ipython3",
   "version": "3.7.7"
  }
 },
 "nbformat": 4,
 "nbformat_minor": 2
}
